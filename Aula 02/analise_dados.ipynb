{
 "cells": [
  {
   "cell_type": "markdown",
   "metadata": {},
   "source": [
    "# Analise de Dados com Python\n",
    "\n",
    "### Case - Cancelamento de Clientes\n",
    "\n",
    "Você foi contratado por uma empresa com mais de 800 mil clientes para um projeto de Dados. Recentemente a empresa percebeu que da sua base total de clientes, a maioria são clientes inativos, ou seja, que já cancelaram o serviço.\n",
    "\n",
    "Precisando melhorar seus resultados ela quer conseguir entender os principais motivos desses cancelamentos e quais as ações mais eficientes para reduzir esse número."
   ]
  },
  {
   "cell_type": "code",
   "execution_count": null,
   "metadata": {},
   "outputs": [],
   "source": [
    "# Passo a passo do projeto\n",
    "# Passo 1: Importar a base de dados de clientes\n",
    "# Passo 2: Vizualizar a base de dados\n",
    "# Passo 3: Corrigir os problemas da base de dados\n",
    "# Passo 4: Análise dos cancelamentos\n",
    "# Passo 5: Análise da causa dos cancelamentos\n",
    "\n",
    "!pip install pandas numpy openpyxl nbformat ipykernel plotly\n",
    "\n",
    "# trabalhar com base de dados -> pandas\n",
    "# gráficos e dashboards -> plotly"
   ]
  },
  {
   "cell_type": "code",
   "execution_count": null,
   "metadata": {},
   "outputs": [],
   "source": [
    "# Passo 1: Importar a base de dados de clientes\n",
    "\n",
    "import pandas as pd\n",
    "\n",
    "tabela = pd.read_csv(\"cancelamentos.csv\")\n",
    "\n",
    "# Passo 2: Vizualizar a base de dados\n",
    "\n",
    "# print(tabela)\n",
    "# display(tabela)\n",
    "\n",
    "# identificar colunas inúteis -> informações que não te ajudam, te atrapalham\n",
    "tabela = tabela.drop(columns=\"CustomerID\")\n",
    "display(tabela)"
   ]
  },
  {
   "cell_type": "code",
   "execution_count": null,
   "metadata": {},
   "outputs": [],
   "source": [
    "# Passo 3: Corrigir os problemas da base de dados\n",
    "\n",
    "# valores vazios -> erros de preenchimento\n",
    "# display(tabela.info())\n",
    "\n",
    "tabela = tabela.dropna()\n",
    "display(tabela.info())"
   ]
  },
  {
   "cell_type": "code",
   "execution_count": null,
   "metadata": {},
   "outputs": [],
   "source": [
    "# Passo 4: Análise dos cancelamentos\n",
    "\n",
    "display(tabela[\"cancelou\"].value_counts())\n",
    "\n",
    "display(tabela[\"cancelou\"].value_counts(normalize=True))"
   ]
  },
  {
   "cell_type": "code",
   "execution_count": null,
   "metadata": {},
   "outputs": [],
   "source": [
    "import plotly.express as px\n",
    "# plotly.com/python\n",
    "\n",
    "# criar o gráfico\n",
    "# para cada coluna da minha tabela\n",
    "\n",
    "for coluna in tabela.columns:\n",
    "    grafico = px.histogram(tabela, x=coluna, color=\"cancelou\")\n",
    "    # plotly.com/python/histograms\n",
    "\n",
    "    # exibir o gráfico\n",
    "    grafico.show()"
   ]
  },
  {
   "cell_type": "code",
   "execution_count": null,
   "metadata": {},
   "outputs": [],
   "source": [
    "# Passo 5: Análise da causa dos cancelamentos\n",
    "\n",
    "# se um cliente ligar mais de 4 vezes para o call center, ele irá cancelar\n",
    "    # criar um processo que caso o cliente ligue 4 vezes, resolver seu problema imediatamente\n",
    "\n",
    "# se um cliente atrasar o pagamento mais de 20 dias, ele irá cancelar\n",
    "    # ir atrás dos clientes que estejam próximos de atrasar o pagamento em 20 dias\n",
    "\n",
    "# todos os clientes do contrato mensal cancelam\n",
    "    # oferecer desconto nos planos anual e trimestral\n",
    "\n",
    "tabela = tabela[tabela[\"duracao_contrato\"]!=\"Monthly\"] # sem duração do contrato mensal\n",
    "tabela = tabela[tabela[\"ligacoes_callcenter\"]<=4] # sem ligação do call center acima de 4 vezes\n",
    "tabela = tabela[tabela[\"dias_atraso\"]<=20] # sem atraso de pagamento maior que 20 dias\n",
    "\n",
    "# exibindo a nova porcentagem, considerando que as causas de cancelamento levantadas foram sanadas\n",
    "display(tabela[\"cancelou\"].value_counts(normalize=True).map(\"{:.1%}\".format))"
   ]
  }
 ],
 "metadata": {
  "kernelspec": {
   "display_name": "base",
   "language": "python",
   "name": "python3"
  },
  "language_info": {
   "codemirror_mode": {
    "name": "ipython",
    "version": 3
   },
   "file_extension": ".py",
   "mimetype": "text/x-python",
   "name": "python",
   "nbconvert_exporter": "python",
   "pygments_lexer": "ipython3",
   "version": "3.12.1"
  },
  "orig_nbformat": 4
 },
 "nbformat": 4,
 "nbformat_minor": 2
}
