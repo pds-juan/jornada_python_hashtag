{
 "cells": [
  {
   "cell_type": "markdown",
   "metadata": {},
   "source": [
    "# Projeto Python IA: Inteligência Artificial e Previsões\n",
    "\n",
    "### Case: Score de Crédito dos Clientes\n",
    "\n",
    "Você foi contratado por um banco para conseguir definir o score de crédito dos clientes. Você precisa analisar todos os clientes do banco e, com base nessa análise, criar um modelo que consiga ler as informações do cliente e dizer automaticamente o score de crédito dele: Ruim, Ok, Bom\n",
    "\n",
    "Arquivos da aula: https://drive.google.com/drive/folders/1FbDqVq4XLvU85VBlVIMJ73p9oOu6u2-J?usp=drive_link"
   ]
  },
  {
   "cell_type": "code",
   "execution_count": null,
   "metadata": {},
   "outputs": [],
   "source": [
    "# Passo a passo do projeto\n",
    "# Passo 0: Entender o desafio da empresa\n",
    "# Passo 1: Importar a base de dados\n",
    "# Passo 2: Preparar a base de dados para a IA\n",
    "# Passo 3: Criar modelos de IA\n",
    "# Passo 4: Escolher o melhor modelo\n",
    "# Passo 5: Usar a IA para fazer novas previsões\n",
    "\n",
    "!pip install pandas scikit-learn\n",
    "\n",
    "# pandas -> trabalhar com base de dados\n",
    "# scikit-learn -> inteligência artificial"
   ]
  },
  {
   "cell_type": "code",
   "execution_count": null,
   "metadata": {},
   "outputs": [],
   "source": [
    "# Passo 1: Importar a base de dados\n",
    "\n",
    "import pandas as pd\n",
    "\n",
    "tabela = pd.read_csv(\"clientes.csv\")\n",
    "\n",
    "display(tabela)\n",
    "display(tabela.info())\n",
    "\n",
    "# coluna score_credito -> Good (bom), Standard (ok), Poor (ruim)"
   ]
  },
  {
   "cell_type": "code",
   "execution_count": null,
   "metadata": {},
   "outputs": [],
   "source": [
    "# Passo 2: Preparar a base de dados para a IA\n",
    "\n",
    "# Label Encoder -> transformar as informações em texto das colunas para números\n",
    "\n",
    "# import sklearn # ou importar apenas o label encoder\n",
    "from sklearn.preprocessing import LabelEncoder\n",
    "\n",
    "# criar o label encoder\n",
    "codificador = LabelEncoder()\n",
    "\n",
    "# aplicar o label encoder nas colunas\n",
    "tabela[\"profissao\"] = codificador.fit_transform(tabela[\"profissao\"])\n",
    "tabela[\"mix_credito\"] = codificador.fit_transform(tabela[\"mix_credito\"])\n",
    "tabela[\"comportamento_pagamento\"] = codificador.fit_transform(tabela[\"comportamento_pagamento\"])\n",
    "\n",
    "display(tabela.info())"
   ]
  },
  {
   "cell_type": "code",
   "execution_count": null,
   "metadata": {},
   "outputs": [],
   "source": [
    "# quem eu quero prever\n",
    "y = tabela[\"score_credito\"]\n",
    "\n",
    "# quem eu quero usar para fazer a previsão\n",
    "x = tabela.drop(columns=[\"score_credito\", \"id_cliente\"])\n",
    "\n",
    "from sklearn.model_selection import train_test_split\n",
    "# treino e teste\n",
    "x_treino, x_teste, y_treino, y_teste = train_test_split(x, y, test_size=0.3)"
   ]
  },
  {
   "cell_type": "code",
   "execution_count": null,
   "metadata": {},
   "outputs": [],
   "source": [
    "# Passo 3: Criar modelos de IA\n",
    "\n",
    "# Árvore de Decisão\n",
    "# KNN -> Vizinhos Próximos (Nearest Neighbors)\n",
    "\n",
    "# importar a IA\n",
    "from sklearn.ensemble import RandomForestClassifier\n",
    "from sklearn.neighbors import KNeighborsClassifier\n",
    "\n",
    "# criar a IA\n",
    "modelo_arvoredecisao = RandomForestClassifier()\n",
    "modelo_knn = KNeighborsClassifier()\n",
    "\n",
    "# treinar a IA\n",
    "modelo_arvoredecisao.fit(x_treino, y_treino)\n",
    "modelo_knn.fit(x_treino, y_treino)"
   ]
  },
  {
   "cell_type": "code",
   "execution_count": null,
   "metadata": {},
   "outputs": [],
   "source": [
    "# testar os modelos\n",
    "\n",
    "previsao_arvoredecisao = modelo_arvoredecisao.predict(x_teste)\n",
    "previsao_knn = modelo_knn.predict(x_teste)\n",
    "\n",
    "from sklearn.metrics import accuracy_score\n",
    "\n",
    "print(accuracy_score(y_teste, previsao_arvoredecisao))\n",
    "print(accuracy_score(y_teste, previsao_knn))"
   ]
  },
  {
   "cell_type": "code",
   "execution_count": null,
   "metadata": {},
   "outputs": [],
   "source": [
    "# Passo 4: Escolher o melhor modelo\n",
    "\n",
    "# o melhor modelo é o de Árvore de Decisão\n",
    "\n",
    "# Passo 5: Usar a IA para fazer novas previsões\n",
    "\n",
    "tabela_nova = pd.read_csv(\"novos_clientes.csv\")\n",
    "display(tabela_nova)\n",
    "\n",
    "tabela_nova[\"profissao\"] = codificador.fit_transform(tabela_nova[\"profissao\"])\n",
    "tabela_nova[\"mix_credito\"] = codificador.fit_transform(tabela_nova[\"mix_credito\"])\n",
    "tabela_nova[\"comportamento_pagamento\"] = codificador.fit_transform(tabela_nova[\"comportamento_pagamento\"])\n",
    "\n",
    "previsoes = modelo_arvoredecisao.predict(tabela_nova)\n",
    "display(previsoes)"
   ]
  },
  {
   "cell_type": "code",
   "execution_count": null,
   "metadata": {},
   "outputs": [],
   "source": [
    "# E quais as características mais importantes para definir o score de crédito?\n",
    "\n",
    "colunas = list(x_teste.columns)\n",
    "importancia = pd.DataFrame(index=colunas, data=modelo_arvoredecisao.feature_importances_)\n",
    "importancia = importancia * 100\n",
    "\n",
    "display(importancia)"
   ]
  }
 ],
 "metadata": {
  "kernelspec": {
   "display_name": "Python 3",
   "language": "python",
   "name": "python3"
  },
  "language_info": {
   "codemirror_mode": {
    "name": "ipython",
    "version": 3
   },
   "file_extension": ".py",
   "mimetype": "text/x-python",
   "name": "python",
   "nbconvert_exporter": "python",
   "pygments_lexer": "ipython3",
   "version": "3.12.1"
  },
  "orig_nbformat": 4
 },
 "nbformat": 4,
 "nbformat_minor": 2
}
